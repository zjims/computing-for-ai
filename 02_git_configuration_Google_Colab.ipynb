{
  "cells": [
    {
      "cell_type": "markdown",
      "id": "2ab10303-851b-47bf-a2c1-23e98a8a99ad",
      "metadata": {
        "id": "2ab10303-851b-47bf-a2c1-23e98a8a99ad"
      },
      "source": [
        "![Practicum AI Logo image](https://github.com/PracticumAI/practicumai.github.io/blob/main/images/logo/PracticumAI_logo_250x50.png?raw=true) <img src='https://github.com/PracticumAI/practicumai.github.io/blob/main/images/icons/practicumai_python.png?raw=true' align='right' width=50>\n",
        "\n",
        "# *Practicum AI: Computing for AI*\n",
        "## Module 3: Git and GitHub\n",
        "## GitHub Account Configuration using Google Colab\n",
        "\n",
        "\n",
        "\n",
        "***"
      ]
    },
    {
      "cell_type": "markdown",
      "id": "cfae84fd-91d8-4c0a-9e39-ca9eeca2bcc5",
      "metadata": {
        "id": "cfae84fd-91d8-4c0a-9e39-ca9eeca2bcc5"
      },
      "source": [
        "This notebook will help you get your GitHub account configured if you are using Google Colab. **If you plan to use HiPerGator, [use this notebook instead](02_git_configuration_HiPerGator.ipynb).**\n"
      ]
    },
    {
      "cell_type": "markdown",
      "id": "9c0cd615-1c42-425e-aae0-e22ceb89d3cc",
      "metadata": {
        "id": "9c0cd615-1c42-425e-aae0-e22ceb89d3cc"
      },
      "source": [
        "## Step 1: Connect your GitHub account to Google\n",
        "\n",
        "In the File menu, select File > Save a copy in GitHub\n",
        "\n",
        "You will need to authorize Google to access your GitHub account. See the screenshot below for what this will look like.\n",
        "\n",
        "Click the green Authorize googlecolab button\n",
        "\n",
        "![Screenshot of the adding Google account to GitHub account](https://github.com/mgitz/computing-for-ai/blob/main/images/Colab_GitHub_OAuth.png?raw=1)\n",
        "\n",
        "\n",
        "After authorizing Colab, you will have the \"Copy to GitHub\" window. This window combines the adding and committing steps of the `git` workflow into one. \n",
        "\n",
        "The Commit message is prepopulated, but should be updated to reflect what you are changing. Something like: \"Connecting Google Colab account to GitHub\".\n",
        "\n",
        "![Screenshot of GitHub Colab commit form](https://github.com/mgitz/computing-for-ai/blob/main/images/Colab_GitCommit.png?raw=1)\n",
        "\n"
      ]
    },
    {
      "cell_type": "markdown",
      "id": "f161a0d7-ed0e-4655-8a70-3675bdc5181c",
      "metadata": {
        "id": "f161a0d7-ed0e-4655-8a70-3675bdc5181c"
      },
      "source": [
        "## That's it!!\n",
        "\n",
        "Your account shoudl be setup and ready to go!\n",
        "\n",
        "## To remove authorization for Google from your GitHub account\n",
        "\n",
        "If you ever decide that you want to revoke the access established following these directions, you can naviagate to your GitHub settings: [https://github.com/settings/applications](https://github.com/settings/applications) and use the 3-dot menu next to Colaboratroy and select **Revoke**. "
      ]
    },
    {
      "cell_type": "code",
      "execution_count": null,
      "id": "d37ad3e1-8a65-4906-b770-3bd49f2d2d99",
      "metadata": {
        "id": "d37ad3e1-8a65-4906-b770-3bd49f2d2d99"
      },
      "outputs": [],
      "source": []
    }
  ],
  "metadata": {
    "kernelspec": {
      "display_name": "UFRC Python-3.10",
      "language": "python",
      "name": "python3-3.10-ufrc"
    },
    "language_info": {
      "codemirror_mode": {
        "name": "ipython",
        "version": 3
      },
      "file_extension": ".py",
      "mimetype": "text/x-python",
      "name": "python",
      "nbconvert_exporter": "python",
      "pygments_lexer": "ipython3",
      "version": "3.10.5"
    },
    "colab": {
      "provenance": []
    }
  },
  "nbformat": 4,
  "nbformat_minor": 5
}